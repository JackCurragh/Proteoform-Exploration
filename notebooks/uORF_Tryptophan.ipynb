{
 "cells": [
  {
   "cell_type": "code",
   "execution_count": 1,
   "metadata": {},
   "outputs": [],
   "source": [
    "from Bio import SeqIO\n",
    "\n",
    "def calculate_amino_acid_frequencies(fasta_file):\n",
    "    \"\"\"\n",
    "    Calculate the frequencies of each amino acid in a given FASTA file containing multiple amino acid sequences.\n",
    "\n",
    "    Parameters:\n",
    "        fasta_file (str): The path to the FASTA file containing the amino acid sequences.\n",
    "\n",
    "    Returns:\n",
    "        dict: A dictionary containing the frequencies of each amino acid. The keys are the amino acid letters,\n",
    "              and the values are the corresponding frequencies.\n",
    "    \"\"\"\n",
    "    amino_acid_freq = {}\n",
    "\n",
    "    # Initialize the amino acid frequencies to zero\n",
    "    for aa in \"ACDEFGHIKLMNPQRSTVWY\":\n",
    "        amino_acid_freq[aa] = 0\n",
    "\n",
    "    # Read the FASTA file and count the occurrences of each amino acid\n",
    "    with open(fasta_file, \"r\") as file:\n",
    "        for record in SeqIO.parse(file, \"fasta\"):\n",
    "            sequence = str(record.seq)\n",
    "            for aa in sequence:\n",
    "                if aa in amino_acid_freq:\n",
    "                    amino_acid_freq[aa] += 1\n",
    "\n",
    "    # Calculate the frequencies\n",
    "    total_aa_count = sum(amino_acid_freq.values())\n",
    "    for aa, count in amino_acid_freq.items():\n",
    "        amino_acid_freq[aa] = count / total_aa_count\n",
    "\n",
    "    return amino_acid_freq\n",
    "\n"
   ]
  },
  {
   "cell_type": "code",
   "execution_count": 3,
   "metadata": {},
   "outputs": [
    {
     "name": "stdout",
     "output_type": "stream",
     "text": [
      "{'A': 0.0928391881219288, 'C': 0.03046501733169559, 'D': 0.026753979278949225, 'E': 0.0469540137842484, 'F': 0.029781097557203533, 'G': 0.09224324998676839, 'H': 0.024133088726046484, 'I': 0.026380744668347025, 'K': 0.036514442392303254, 'L': 0.09759775756796754, 'M': 0.028593345426226366, 'N': 0.01972300905454793, 'P': 0.09045612293784441, 'Q': 0.037456808232332016, 'R': 0.09986259742420003, 'S': 0.09023273205672891, 'T': 0.047088735669474975, 'V': 0.04984572282071885, 'W': 0.02094512901338902, 'Y': 0.012133217949079251}\n"
     ]
    }
   ],
   "source": [
    "fasta_file_path = \"/home/jack/projects/Proteoform-Exploration/data/sORFs_genomic_hg38.prot.20210329.fa\"\n",
    "amino_acid_frequencies_uORFs = calculate_amino_acid_frequencies(fasta_file_path)\n",
    "print(amino_acid_frequencies_uORFs)"
   ]
  },
  {
   "cell_type": "code",
   "execution_count": 4,
   "metadata": {},
   "outputs": [
    {
     "name": "stdout",
     "output_type": "stream",
     "text": [
      "{'A': 0.06876006192267214, 'C': 0.02163705847754712, 'D': 0.048660771023208725, 'E': 0.07268770452090527, 'F': 0.036089872905738896, 'G': 0.06415776321739619, 'H': 0.0258526474124958, 'I': 0.04414223025748746, 'K': 0.058921573330599, 'L': 0.0989582094716952, 'M': 0.022268380536601014, 'N': 0.03668893315257018, 'P': 0.06137660857191122, 'Q': 0.048319987158934784, 'R': 0.056304046777126804, 'S': 0.08308037329122095, 'T': 0.05336578915598416, 'V': 0.059947562618949804, 'W': 0.012176026267799414, 'Y': 0.026604399929155878}\n"
     ]
    }
   ],
   "source": [
    "fasta_file_path = \"/home/jack/projects/Proteoform-Exploration/data/gencode.v44.pc_translations.fa\"\n",
    "amino_acid_frequencies_allCDS = calculate_amino_acid_frequencies(fasta_file_path)\n",
    "print(amino_acid_frequencies_allCDS)"
   ]
  },
  {
   "cell_type": "code",
   "execution_count": 6,
   "metadata": {},
   "outputs": [
    {
     "name": "stdout",
     "output_type": "stream",
     "text": [
      "A \t 0.02407912619925666\n",
      "C \t 0.008827958854148471\n",
      "D \t -0.0219067917442595\n",
      "E \t -0.02573369073665687\n",
      "F \t -0.006308775348535363\n",
      "G \t 0.028085486769372198\n",
      "H \t -0.001719558686449317\n",
      "I \t -0.017761485589140435\n",
      "K \t -0.022407130938295744\n",
      "L \t -0.0013604519037276608\n",
      "M \t 0.0063249648896253514\n",
      "N \t -0.01696592409802225\n",
      "P \t 0.029079514365933194\n",
      "Q \t -0.010863178926602768\n",
      "R \t 0.04355855064707323\n",
      "S \t 0.00715235876550796\n",
      "T \t -0.006277053486509185\n",
      "V \t -0.010101839798230955\n",
      "W \t 0.008769102745589605\n",
      "Y \t -0.014471181980076627\n"
     ]
    }
   ],
   "source": [
    "for key in amino_acid_frequencies_uORFs:\n",
    "    diff = amino_acid_frequencies_uORFs[key] - amino_acid_frequencies_allCDS[key]\n",
    "    print(key, '\\t', diff)"
   ]
  },
  {
   "cell_type": "code",
   "execution_count": 7,
   "metadata": {},
   "outputs": [],
   "source": [
    "import pandas as pd"
   ]
  },
  {
   "cell_type": "code",
   "execution_count": 21,
   "metadata": {},
   "outputs": [],
   "source": [
    "with open('/home/jack/projects/Proteoform-Exploration/data/top50_uORFs.txt', 'r') as f:\n",
    "    uORFs = f.readlines()\n",
    "uORFs = [uORF.strip() for uORF in uORFs][1:]\n"
   ]
  },
  {
   "cell_type": "code",
   "execution_count": 22,
   "metadata": {},
   "outputs": [],
   "source": [
    "def subset_fasta_by_names(names_list, fasta_path, output_path):\n",
    "    \"\"\"\n",
    "    Subsets a FASTA file by keeping only the sequences whose description contains any of the terms in the given list of names.\n",
    "\n",
    "    Parameters:\n",
    "        names_list (list): A list of names (strings) to be used for filtering the FASTA file.\n",
    "        fasta_path (str): Path to the input FASTA file.\n",
    "        output_path (str): Path to the output file where the subsetted sequences will be saved.\n",
    "\n",
    "    Returns:\n",
    "        None. The function writes the subsetted sequences to the output file.\n",
    "    \"\"\"\n",
    "\n",
    "    # Store the names as a set for faster lookups\n",
    "    names_set = set(names_list)\n",
    "\n",
    "    # Variables to store the current sequence ID and sequence lines\n",
    "    current_sequence_id = None\n",
    "    current_sequence_lines = []\n",
    "\n",
    "    # Open the input and output files\n",
    "    with open(fasta_path, 'r') as fasta_file, open(output_path, 'w') as output_file:\n",
    "        for line in fasta_file:\n",
    "            line = line.strip()\n",
    "            if line.startswith('>'):  # FASTA header line\n",
    "                # If there was a previous sequence, check if it should be written\n",
    "                if current_sequence_id is not None and any(name in current_sequence_id for name in names_set):\n",
    "                    output_file.write(current_sequence_id + '\\n')\n",
    "                    output_file.write('\\n'.join(current_sequence_lines) + '\\n')\n",
    "\n",
    "                # Reset variables for the new sequence\n",
    "                current_sequence_id = line\n",
    "                current_sequence_lines = []\n",
    "            else:\n",
    "                # Append sequence lines\n",
    "                current_sequence_lines.append(line)\n",
    "\n",
    "        # Write the last sequence (if applicable)\n",
    "        if current_sequence_id is not None and any(name in current_sequence_id for name in names_set):\n",
    "            output_file.write(current_sequence_id + '\\n')\n",
    "            output_file.write('\\n'.join(current_sequence_lines) + '\\n')\n"
   ]
  },
  {
   "cell_type": "code",
   "execution_count": 23,
   "metadata": {},
   "outputs": [],
   "source": [
    "subset_fasta_by_names(uORFs, \"/home/jack/projects/Proteoform-Exploration/data/sORFs_genomic_hg38.prot.20210329.fa\", \"/home/jack/projects/Proteoform-Exploration/data/top_uORFs.fa\")"
   ]
  },
  {
   "cell_type": "code",
   "execution_count": 24,
   "metadata": {},
   "outputs": [
    {
     "name": "stdout",
     "output_type": "stream",
     "text": [
      "{'A': 0.0946604405644097, 'C': 0.03568165668460055, 'D': 0.02705309105674551, 'E': 0.04923358034717287, 'F': 0.03146888640747132, 'G': 0.08313876763780327, 'H': 0.023906202415998376, 'I': 0.02344939600040605, 'K': 0.03679829458938179, 'L': 0.0871485128413359, 'M': 0.03314384326464318, 'N': 0.017510912597705815, 'P': 0.08085473555984164, 'Q': 0.03923459547254086, 'R': 0.09491422190640544, 'S': 0.09674144756877474, 'T': 0.05324332555070551, 'V': 0.05111156227794133, 'W': 0.02547964673637194, 'Y': 0.015226880519744189}\n"
     ]
    }
   ],
   "source": [
    "fasta_file_path = \"/home/jack/projects/Proteoform-Exploration/data/top_uORFs.fa\"\n",
    "amino_acid_frequencies_uORFs = calculate_amino_acid_frequencies(fasta_file_path)\n",
    "print(amino_acid_frequencies_uORFs)"
   ]
  },
  {
   "cell_type": "code",
   "execution_count": 25,
   "metadata": {},
   "outputs": [
    {
     "name": "stdout",
     "output_type": "stream",
     "text": [
      "A \t 0.025900378641737554\n",
      "C \t 0.014044598207053428\n",
      "D \t -0.021607679966463216\n",
      "E \t -0.023454124173732396\n",
      "F \t -0.004620986498267574\n",
      "G \t 0.01898100442040708\n",
      "H \t -0.0019464449964974248\n",
      "I \t -0.02069283425708141\n",
      "K \t -0.02212327874121721\n",
      "L \t -0.011809696630359301\n",
      "M \t 0.010875462728042167\n",
      "N \t -0.019178020554864363\n",
      "P \t 0.019478126987930423\n",
      "Q \t -0.009085391686393926\n",
      "R \t 0.03861017512927864\n",
      "S \t 0.013661074277553795\n",
      "T \t -0.00012246360527864986\n",
      "V \t -0.008836000341008475\n",
      "W \t 0.013303620468572527\n",
      "Y \t -0.01137751940941169\n"
     ]
    }
   ],
   "source": [
    "for key in amino_acid_frequencies_uORFs:\n",
    "    diff = amino_acid_frequencies_uORFs[key] - amino_acid_frequencies_allCDS[key]\n",
    "    print(key, '\\t', diff)"
   ]
  },
  {
   "cell_type": "code",
   "execution_count": 29,
   "metadata": {},
   "outputs": [],
   "source": [
    "from Bio import SeqIO\n",
    "from scipy.stats import fisher_exact, chi2_contingency"
   ]
  },
  {
   "cell_type": "code",
   "execution_count": 30,
   "metadata": {},
   "outputs": [],
   "source": [
    "def count_amino_acid(sequence, amino_acid):\n",
    "    return sequence.count(amino_acid)\n",
    "\n",
    "def calculate_enrichment(candidate_sequences, annotated_sequences, amino_acid_of_interest, test=\"fisher\"):\n",
    "    candidate_count = sum(count_amino_acid(seq, amino_acid_of_interest) for seq in candidate_sequences)\n",
    "    annotated_count = sum(count_amino_acid(seq, amino_acid_of_interest) for seq in annotated_sequences)\n",
    "\n",
    "    candidate_total = sum(len(seq) for seq in candidate_sequences)\n",
    "    annotated_total = sum(len(seq) for seq in annotated_sequences)\n",
    "\n",
    "    # Create a 2x2 contingency table for Fisher's exact test\n",
    "    contingency_table = [[candidate_count, candidate_total - candidate_count],\n",
    "                         [annotated_count, annotated_total - annotated_count]]\n",
    "\n",
    "    if test == \"fisher\":\n",
    "        # Perform Fisher's exact test\n",
    "        odds_ratio, p_value = fisher_exact(contingency_table)\n",
    "    elif test == \"chi2\":\n",
    "        # Perform chi-squared test\n",
    "        chi2, p_value, dof, expected = chi2_contingency(contingency_table)\n",
    "        odds_ratio = chi2\n",
    "\n",
    "    return odds_ratio, p_value\n",
    "\n",
    "def read_fasta_file(filename):\n",
    "    sequences = []\n",
    "    with open(filename, \"r\") as handle:\n",
    "        for record in SeqIO.parse(handle, \"fasta\"):\n",
    "            sequences.append(str(record.seq))\n",
    "    return sequences"
   ]
  },
  {
   "cell_type": "code",
   "execution_count": 35,
   "metadata": {},
   "outputs": [
    {
     "name": "stdout",
     "output_type": "stream",
     "text": [
      "Enrichment of K:\n",
      "Odds Ratio: 188.71569766624043\n",
      "P-value: 6.062773976113845e-43\n"
     ]
    }
   ],
   "source": [
    "\n",
    "candidate_fasta_file = \"/home/jack/projects/Proteoform-Exploration/data/top_uORFs.fa\"\n",
    "annotated_fasta_file = \"/home/jack/projects/Proteoform-Exploration/data/gencode.v44.pc_translations.fa\"\n",
    "\n",
    "# Replace this with the amino acid you want to test for enrichment\n",
    "amino_acid_of_interest = \"K\"\n",
    "\n",
    "# Read the fasta files\n",
    "candidate_sequences = read_fasta_file(candidate_fasta_file)\n",
    "annotated_sequences = read_fasta_file(annotated_fasta_file)\n",
    "\n",
    "# Calculate enrichment\n",
    "odds_ratio, p_value = calculate_enrichment(candidate_sequences, annotated_sequences, amino_acid_of_interest, test=\"chi2\")\n",
    "\n",
    "print(f\"Enrichment of {amino_acid_of_interest}:\")\n",
    "print(f\"Odds Ratio: {odds_ratio}\")\n",
    "print(f\"P-value: {p_value}\")\n"
   ]
  }
 ],
 "metadata": {
  "kernelspec": {
   "display_name": "proteoform-exploration",
   "language": "python",
   "name": "python3"
  },
  "language_info": {
   "codemirror_mode": {
    "name": "ipython",
    "version": 3
   },
   "file_extension": ".py",
   "mimetype": "text/x-python",
   "name": "python",
   "nbconvert_exporter": "python",
   "pygments_lexer": "ipython3",
   "version": "3.10.12"
  },
  "orig_nbformat": 4
 },
 "nbformat": 4,
 "nbformat_minor": 2
}
